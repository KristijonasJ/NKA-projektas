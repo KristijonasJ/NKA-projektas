{
 "cells": [
  {
   "cell_type": "code",
   "execution_count": 3,
   "id": "9a7454ca",
   "metadata": {},
   "outputs": [
    {
     "name": "stdout",
     "output_type": "stream",
     "text": [
      "Today Tom met Josh. Josh and Tom shook hands.\n"
     ]
    },
    {
     "data": {
      "text/html": [
       "<span class=\"tex2jax_ignore\"><div class=\"entities\" style=\"line-height: 2.5; direction: ltr\">Today \n",
       "<mark class=\"entity\" style=\"background: #aa9cfc; padding: 0.45em 0.6em; margin: 0 0.25em; line-height: 1; border-radius: 0.35em;\">\n",
       "    ANONIMAS\n",
       "    <span style=\"font-size: 0.8em; font-weight: bold; line-height: 1; border-radius: 0.35em; text-transform: uppercase; vertical-align: middle; margin-left: 0.5rem\">PERSON</span>\n",
       "</mark>\n",
       " met \n",
       "<mark class=\"entity\" style=\"background: #aa9cfc; padding: 0.45em 0.6em; margin: 0 0.25em; line-height: 1; border-radius: 0.35em;\">\n",
       "    ANONIMAS\n",
       "    <span style=\"font-size: 0.8em; font-weight: bold; line-height: 1; border-radius: 0.35em; text-transform: uppercase; vertical-align: middle; margin-left: 0.5rem\">PERSON</span>\n",
       "</mark>\n",
       ". \n",
       "<mark class=\"entity\" style=\"background: #aa9cfc; padding: 0.45em 0.6em; margin: 0 0.25em; line-height: 1; border-radius: 0.35em;\">\n",
       "    ANONIMAS\n",
       "    <span style=\"font-size: 0.8em; font-weight: bold; line-height: 1; border-radius: 0.35em; text-transform: uppercase; vertical-align: middle; margin-left: 0.5rem\">PERSON</span>\n",
       "</mark>\n",
       " and \n",
       "<mark class=\"entity\" style=\"background: #aa9cfc; padding: 0.45em 0.6em; margin: 0 0.25em; line-height: 1; border-radius: 0.35em;\">\n",
       "    ANONIMAS\n",
       "    <span style=\"font-size: 0.8em; font-weight: bold; line-height: 1; border-radius: 0.35em; text-transform: uppercase; vertical-align: middle; margin-left: 0.5rem\">PERSON</span>\n",
       "</mark>\n",
       " shook hands.</div></span>"
      ],
      "text/plain": [
       "<IPython.core.display.HTML object>"
      ]
     },
     "metadata": {},
     "output_type": "display_data"
    },
    {
     "data": {
      "image/png": "[encoded data removed]",
      "text/plain": [
       "<Figure size 432x288 with 1 Axes>"
      ]
     },
     "metadata": {},
     "output_type": "display_data"
    }
   ],
   "source": [
    "# Reikiamų bibliotekų importavimas\n",
    "import spacy\n",
    "import re\n",
    "from matplotlib import pyplot as plt\n",
    "from spacy import displacy\n",
    "from spacy.tokens import Span\n",
    "nlp = spacy.load('en_core_web_sm')\n",
    "\n",
    "## Testiniai tekstai\n",
    "#tekstas = \"Today Tom met Josh. Josh and Tom shook hands.\"\n",
    "#tekstas = \"They just moved to London.\"\n",
    "#tekstas = \"Susan, Steve and Jake played football\"\n",
    "#tekstas = \"William is from Berlin, Germany\"\n",
    "#tekstas = \"Johnny lives in Vilnius. He goes to The University of Vilnius together with his friend Greg.\"\n",
    "#tekstas = \"Jerome is an American. He was born in March 12, 1984\"\n",
    "\n",
    "print(tekstas)\n",
    "\n",
    "rem_punct = re.sub('[^A-Za-z0-9]+', ' ', tekstas)\n",
    "All_words = len(nlp(rem_punct))\n",
    "anonimas_count = 0\n",
    "doc = nlp(tekstas)\n",
    "\n",
    "## Vardų pakeitimas žodžiu ANONIMAS\n",
    "result = []\n",
    "\n",
    "for t in doc:\n",
    "    if t.ent_type_ == \"PERSON\":\n",
    "        result.append(\"ANONIMAS\")\n",
    "        anonimas_count+=1\n",
    "    else:\n",
    "        result.append(t.text)\n",
    "    result.append(t.whitespace_)\n",
    "\n",
    "res = ''.join(result)\n",
    "doc2 = nlp(res)\n",
    "## Žodžio ANONIMAS pridėjimas prie PERSON sąrašo \n",
    "PERSON = doc2.vocab.strings[u'PERSON']\n",
    "count = 0\n",
    "for t in doc2:\n",
    "    if t.text == \"ANONIMAS\":\n",
    "        new_ent = Span(doc2, count, count+1, label = PERSON)\n",
    "        doc2.ents = list(doc2.ents) + [new_ent]\n",
    "\n",
    "    count += 1\n",
    "\n",
    "## Vizualizacija\n",
    "displacy.render(doc2, style = 'ent', jupyter = True)\n",
    "\n",
    "%matplotlib inline\n",
    "plt.style.use('ggplot')\n",
    "\n",
    "x = ['Total word count', 'Words changed to Anonimas']\n",
    "energy = [All_words, anonimas_count]\n",
    "\n",
    "x_pos = [i for i, _ in enumerate(x)]\n",
    "\n",
    "plt.bar(x_pos, energy, color='green')\n",
    "plt.xlabel(\"Token label\")\n",
    "plt.ylabel(\"Word count\")\n",
    "plt.title(\"Word Count\")\n",
    "\n",
    "plt.xticks(x_pos, x)\n",
    "\n",
    "plt.show()"
   ]
  },
  {
   "cell_type": "code",
   "execution_count": null,
   "id": "d43aa9e8",
   "metadata": {},
   "outputs": [],
   "source": []
  }
 ],
 "metadata": {
  "kernelspec": {
   "display_name": "Python 3 (ipykernel)",
   "language": "python",
   "name": "python3"
  },
  "language_info": {
   "codemirror_mode": {
    "name": "ipython",
    "version": 3
   },
   "file_extension": ".py",
   "mimetype": "text/x-python",
   "name": "python",
   "nbconvert_exporter": "python",
   "pygments_lexer": "ipython3",
   "version": "3.8.13"
  }
 },
 "nbformat": 4,
 "nbformat_minor": 5
}
